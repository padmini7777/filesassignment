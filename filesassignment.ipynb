{
  "nbformat": 4,
  "nbformat_minor": 0,
  "metadata": {
    "colab": {
      "provenance": []
    },
    "kernelspec": {
      "name": "python3",
      "display_name": "Python 3"
    },
    "language_info": {
      "name": "python"
    }
  },
  "cells": [
    {
      "cell_type": "markdown",
      "source": [
        "##Files, exceptional handling, logging and memory management\n",
        "\n"
      ],
      "metadata": {
        "id": "vTnay7dIdROL"
      }
    },
    {
      "cell_type": "markdown",
      "source": [
        "###1. What is the difference between interpreted and compiled languages?"
      ],
      "metadata": {
        "id": "iLXzEyG6dftt"
      }
    },
    {
      "cell_type": "markdown",
      "source": [
        "Ans-\n",
        "\n",
        "**Interpreted vs Compiled Languages**\n",
        "\n",
        "**Interpreted** (e.g., Python): Code is executed line-by-line by an interpreter. No explicit compilation step.\n",
        "\n",
        "**Compiled** (e.g., C++): Code is converted to machine code before execution, producing an executable file."
      ],
      "metadata": {
        "id": "uaBvee9bdqs6"
      }
    },
    {
      "cell_type": "markdown",
      "source": [
        "###2. What is exception handling in Python?"
      ],
      "metadata": {
        "id": "d5K73RcmeBmt"
      }
    },
    {
      "cell_type": "markdown",
      "source": [
        "Ans-**Exception Handling** in Python Using try-except blocks to catch and handle runtime errors (e.g., ZeroDivisionError, FileNotFoundError)."
      ],
      "metadata": {
        "id": "XFvPIEBzeIib"
      }
    },
    {
      "cell_type": "markdown",
      "source": [
        "###3.What is the purpose of the finally block in exception handling?"
      ],
      "metadata": {
        "id": "I9ihJ-B5eIe2"
      }
    },
    {
      "cell_type": "markdown",
      "source": [
        "Ans- **Purpose of finally Block**\n",
        "\n",
        "Executes code regardless of whether an exception occurred.\n",
        "\n",
        "Example: closing a file after handling errors."
      ],
      "metadata": {
        "id": "Tj2qNnMaeIcb"
      }
    },
    {
      "cell_type": "markdown",
      "source": [
        "###4. What is logging in Python?\n",
        "\n"
      ],
      "metadata": {
        "id": "eYZdYHLieIaI"
      }
    },
    {
      "cell_type": "markdown",
      "source": [
        "Ans-\n",
        "**Logging in Python**\n",
        "\n",
        "\n",
        "A module to track program events (e.g., errors, warnings) for debugging and auditing.\n",
        "\n"
      ],
      "metadata": {
        "id": "f4yihU9veIA1"
      }
    },
    {
      "cell_type": "markdown",
      "source": [
        "###5. What is the significance of the __del__ method in Python?"
      ],
      "metadata": {
        "id": "-lfu4khIfrV-"
      }
    },
    {
      "cell_type": "markdown",
      "source": [
        "Ans- **Significance of __del__ Method**\n",
        "\n",
        "A destructor method called when an object is destroyed. Used for cleanup, but not recommended for critical resource management."
      ],
      "metadata": {
        "id": "owY_ctqgfrSX"
      }
    },
    {
      "cell_type": "markdown",
      "source": [
        "###6. What is the difference between import and from ... import in Python?"
      ],
      "metadata": {
        "id": "ICNUZ0DFfrQK"
      }
    },
    {
      "cell_type": "markdown",
      "source": [
        "Ans- **import vs from ... import**\n",
        "\n",
        "**import math**: Imports the entire module.\n",
        "\n",
        "**from math import sqrt**: Imports a specific function"
      ],
      "metadata": {
        "id": "v1TdSeTafrNx"
      }
    },
    {
      "cell_type": "markdown",
      "source": [
        "###7. How can you handle multiple exceptions in Python?"
      ],
      "metadata": {
        "id": "GtKi_Vf0frLd"
      }
    },
    {
      "cell_type": "markdown",
      "source": [
        "Ans- Handling Multiple Exceptions"
      ],
      "metadata": {
        "id": "lCXjf38CfrJg"
      }
    },
    {
      "cell_type": "code",
      "source": [
        "# Option 1: Handle multiple exceptions in a single block\n",
        "try:\n",
        "    risky_code()\n",
        "except (ValueError, TypeError) as e:\n",
        "    print(f\"Error: {e}\")\n",
        "\n",
        "# Option 2: Separate except blocks for specific handling\n",
        "try:\n",
        "    risky_code()\n",
        "except ValueError:\n",
        "    print(\"ValueError\")\n",
        "except TypeError:\n",
        "    print(\"TypeError\")"
      ],
      "metadata": {
        "colab": {
          "base_uri": "https://localhost:8080/",
          "height": 219
        },
        "id": "rqV1PNg8hExH",
        "outputId": "a2a2339e-8730-4147-e829-484de10a8841"
      },
      "execution_count": 32,
      "outputs": [
        {
          "output_type": "error",
          "ename": "NameError",
          "evalue": "name 'risky_code' is not defined",
          "traceback": [
            "\u001b[0;31m---------------------------------------------------------------------------\u001b[0m",
            "\u001b[0;31mNameError\u001b[0m                                 Traceback (most recent call last)",
            "\u001b[0;32m<ipython-input-32-62316e3a81b1>\u001b[0m in \u001b[0;36m<cell line: 0>\u001b[0;34m()\u001b[0m\n\u001b[1;32m      1\u001b[0m \u001b[0;31m# Option 1: Handle multiple exceptions in a single block\u001b[0m\u001b[0;34m\u001b[0m\u001b[0;34m\u001b[0m\u001b[0m\n\u001b[1;32m      2\u001b[0m \u001b[0;32mtry\u001b[0m\u001b[0;34m:\u001b[0m\u001b[0;34m\u001b[0m\u001b[0;34m\u001b[0m\u001b[0m\n\u001b[0;32m----> 3\u001b[0;31m     \u001b[0mrisky_code\u001b[0m\u001b[0;34m(\u001b[0m\u001b[0;34m)\u001b[0m\u001b[0;34m\u001b[0m\u001b[0;34m\u001b[0m\u001b[0m\n\u001b[0m\u001b[1;32m      4\u001b[0m \u001b[0;32mexcept\u001b[0m \u001b[0;34m(\u001b[0m\u001b[0mValueError\u001b[0m\u001b[0;34m,\u001b[0m \u001b[0mTypeError\u001b[0m\u001b[0;34m)\u001b[0m \u001b[0;32mas\u001b[0m \u001b[0me\u001b[0m\u001b[0;34m:\u001b[0m\u001b[0;34m\u001b[0m\u001b[0;34m\u001b[0m\u001b[0m\n\u001b[1;32m      5\u001b[0m     \u001b[0mprint\u001b[0m\u001b[0;34m(\u001b[0m\u001b[0;34mf\"Error: {e}\"\u001b[0m\u001b[0;34m)\u001b[0m\u001b[0;34m\u001b[0m\u001b[0;34m\u001b[0m\u001b[0m\n",
            "\u001b[0;31mNameError\u001b[0m: name 'risky_code' is not defined"
          ]
        }
      ]
    },
    {
      "cell_type": "markdown",
      "source": [
        "###8.What is the purpose of the with statement when handling files in Python?"
      ],
      "metadata": {
        "id": "dGZuJYe8hDM_"
      }
    },
    {
      "cell_type": "markdown",
      "source": [
        "ANS- **Purpose of with Statement**\n",
        "\n",
        "Ensures proper resource management (e.g., automatically closes files)."
      ],
      "metadata": {
        "id": "QRMScxl_frHP"
      }
    },
    {
      "cell_type": "markdown",
      "source": [],
      "metadata": {
        "id": "xNLUUJrifrFD"
      }
    },
    {
      "cell_type": "markdown",
      "source": [
        "###9. What is the difference between multithreading and multiprocessing?"
      ],
      "metadata": {
        "id": "sl_SXL0ofrCx"
      }
    },
    {
      "cell_type": "markdown",
      "source": [
        "ANS-  **Multithreading** vs **Multiprocessing**\n",
        "\n",
        "**Multithreading**: Threads share memory (I/O-bound tasks).\n",
        "\n",
        "**Multiprocessing**: Processes use separate memory (CPU-bound tasks)"
      ],
      "metadata": {
        "id": "f6PJhjR3frAe"
      }
    },
    {
      "cell_type": "markdown",
      "source": [
        "###10.What are the advantages of using logging in a program?"
      ],
      "metadata": {
        "id": "8ogrI07zfq-M"
      }
    },
    {
      "cell_type": "markdown",
      "source": [
        "Ans- **Advantages of Logging**\n",
        "\n",
        "Configurable, supports multiple output destinations, and provides structured debugging."
      ],
      "metadata": {
        "id": "wlC51-W2fq70"
      }
    },
    {
      "cell_type": "markdown",
      "source": [
        "###11. What is memory management in Python?"
      ],
      "metadata": {
        "id": "MGrEdJiGiXoX"
      }
    },
    {
      "cell_type": "markdown",
      "source": [
        "Ans- **Memory Management in Python**\n",
        "\n",
        "- Automatic garbage collection via reference counting and cycle detection.\n",
        "\n"
      ],
      "metadata": {
        "id": "8btCEAoeiXkl"
      }
    },
    {
      "cell_type": "markdown",
      "source": [
        "###12.What are the basic steps involved in exception handling in Python?"
      ],
      "metadata": {
        "id": "YzUmAtSJiXiY"
      }
    },
    {
      "cell_type": "markdown",
      "source": [
        "Ans- Steps in Exception Handling\n",
        "\n",
        "**try** → **except** → **else** (optional) → **finally** (optional)."
      ],
      "metadata": {
        "id": "i1LQlJgmiXgR"
      }
    },
    {
      "cell_type": "markdown",
      "source": [
        "###13. Why is memory management important in Python?"
      ],
      "metadata": {
        "id": "9Nmkk5K-iXd2"
      }
    },
    {
      "cell_type": "markdown",
      "source": [
        "Ans- **Importance of Memory Management**\n",
        "\n",
        " - it prevents memory leaks and optimizes resource usage."
      ],
      "metadata": {
        "id": "DPfP2j7UjTmc"
      }
    },
    {
      "cell_type": "markdown",
      "source": [
        "###14. What is the role of try and except in exception handling?"
      ],
      "metadata": {
        "id": "_1cRo_zujTje"
      }
    },
    {
      "cell_type": "markdown",
      "source": [
        "Ans- Role of **try** and **except**\n",
        "\n",
        "**try** runs risky code; **except** catches and handles exceptions."
      ],
      "metadata": {
        "id": "fliL_ZX9jThk"
      }
    },
    {
      "cell_type": "markdown",
      "source": [
        "###15. How does Python's garbage collection system work?"
      ],
      "metadata": {
        "id": "d_yLf9XajTer"
      }
    },
    {
      "cell_type": "markdown",
      "source": [
        "Ans- **Python’s Garbage Collection**\n",
        "- Uses reference counting. Objects are deleted when their reference count drops to zero."
      ],
      "metadata": {
        "id": "xa7vPwznjTcL"
      }
    },
    {
      "cell_type": "markdown",
      "source": [
        "###16.What is the purpose of the else block in exception handling?"
      ],
      "metadata": {
        "id": "bcwlNUPXjQvM"
      }
    },
    {
      "cell_type": "markdown",
      "source": [
        "Ans- **else Block** in Exception Handling\n",
        "Runs if no exceptions occur in the try block."
      ],
      "metadata": {
        "id": "7XZegU7MiXbm"
      }
    },
    {
      "cell_type": "markdown",
      "source": [
        "###17. What are the common logging levels in Python?"
      ],
      "metadata": {
        "id": "GTiYb28dnJT2"
      }
    },
    {
      "cell_type": "markdown",
      "source": [
        "ANS- Common Logging Levels\n",
        "DEBUG, INFO, WARNING, ERROR, CRITICAL.\n",
        "\n"
      ],
      "metadata": {
        "id": "rSTqOBLhnKFR"
      }
    },
    {
      "cell_type": "markdown",
      "source": [
        "###18. What is the difference between os.fork() and multiprocessing in Python?"
      ],
      "metadata": {
        "id": "3A_LBe_RnJ1u"
      }
    },
    {
      "cell_type": "markdown",
      "source": [
        "Ans- os.fork() vs multiprocessing\n",
        "\n",
        "- **os.fork()** is Unix-specific;\n",
        "\n",
        "- **multiprocessing** is cross-platform."
      ],
      "metadata": {
        "id": "fiecYQ7eniv2"
      }
    },
    {
      "cell_type": "markdown",
      "source": [
        "###19. What is the importance of closing a file in Python?"
      ],
      "metadata": {
        "id": "uSQDjxYmnJZv"
      }
    },
    {
      "cell_type": "markdown",
      "source": [
        "Ans- It Prevents data corruption and resource leaks."
      ],
      "metadata": {
        "id": "oUOnY6jqBUo0"
      }
    },
    {
      "cell_type": "markdown",
      "source": [
        "###20. What is the difference between file.read() and file.readline() in Python?"
      ],
      "metadata": {
        "id": "ngLEpWhUBVRp"
      }
    },
    {
      "cell_type": "markdown",
      "source": [
        "Ans- **read()** vs **readline()**\n",
        "\n",
        "- read(): Reads entire file.\n",
        "\n",
        "- readline(): Reads one line."
      ],
      "metadata": {
        "id": "jw76tU_aBxwy"
      }
    },
    {
      "cell_type": "markdown",
      "source": [
        "###21. What is the logging module in Python used for?"
      ],
      "metadata": {
        "id": "b05Noee7COcK"
      }
    },
    {
      "cell_type": "markdown",
      "source": [
        "Ans- It is Used for tracking program execution and debugging."
      ],
      "metadata": {
        "id": "B9Ysn8MrCOYC"
      }
    },
    {
      "cell_type": "markdown",
      "source": [
        "###22.What is the os module in Python used for in file handling?"
      ],
      "metadata": {
        "id": "M7O2Q1hPCOOq"
      }
    },
    {
      "cell_type": "markdown",
      "source": [
        "Ans- It Provides OS-level operations (e.g., file paths, directory management)."
      ],
      "metadata": {
        "id": "BI0ssMhMCOKh"
      }
    },
    {
      "cell_type": "markdown",
      "source": [
        "###23. What are the challenges associated with memory management in Python?"
      ],
      "metadata": {
        "id": "s-0EgQWhCOGU"
      }
    },
    {
      "cell_type": "markdown",
      "source": [
        "Ans- Challenges in Memory Management is Fragmentation, GC overhead, handling large datasets."
      ],
      "metadata": {
        "id": "6m2W0PWrCOCb"
      }
    },
    {
      "cell_type": "markdown",
      "source": [
        "###24.How do you raise an exception manually in Python?"
      ],
      "metadata": {
        "id": "F_WFIO9rDIjB"
      }
    },
    {
      "cell_type": "markdown",
      "source": [
        "Ans- Raising exception manually"
      ],
      "metadata": {
        "id": "tj-nNJV2DQB6"
      }
    },
    {
      "cell_type": "code",
      "source": [
        "# Raise a built-in exception\n",
        "raise ValueError(\"Invalid value\")\n",
        "\n",
        "# Re-raise an exception\n",
        "try:\n",
        "    10 / 0\n",
        "except ZeroDivisionError:\n",
        "    raise  # Propagates the error up\n",
        "\n",
        "# Raise a custom exception\n",
        "class CustomError(Exception):\n",
        "    pass\n",
        "raise CustomError(\"Custom message\")"
      ],
      "metadata": {
        "id": "PeM6KbPeDf_x"
      },
      "execution_count": null,
      "outputs": []
    },
    {
      "cell_type": "markdown",
      "source": [
        "###25.  Why is it important to use multithreading in certain applications?"
      ],
      "metadata": {
        "id": "Edptb3pPDxk6"
      }
    },
    {
      "cell_type": "markdown",
      "source": [
        "Ans- It Improves performance for I/O-bound tasks (e.g., web requests).\n",
        "\n"
      ],
      "metadata": {
        "id": "dtLtcuGSD7GJ"
      }
    },
    {
      "cell_type": "markdown",
      "source": [
        "##Practical Questions"
      ],
      "metadata": {
        "id": "Lv-2AZgPEEk5"
      }
    },
    {
      "cell_type": "markdown",
      "source": [
        "###1. How can you open a file for writing in Python and write a string to it?"
      ],
      "metadata": {
        "id": "09kFUMuiELUp"
      }
    },
    {
      "cell_type": "code",
      "source": [
        "with open(\"file.txt\", \"w\") as f:\n",
        "    f.write(\"Hello, World!\")"
      ],
      "metadata": {
        "id": "ZDNGF_bJERng"
      },
      "execution_count": 3,
      "outputs": []
    },
    {
      "cell_type": "markdown",
      "source": [
        "###2. Write a Python program to read the contents of a file and print each line."
      ],
      "metadata": {
        "id": "NGWAbRDzEVQp"
      }
    },
    {
      "cell_type": "code",
      "source": [
        "with open(\"file.txt\", \"r\") as f:\n",
        "    for line in f:\n",
        "        print(line.strip())"
      ],
      "metadata": {
        "id": "umdIAqRwEaoY"
      },
      "execution_count": 5,
      "outputs": []
    },
    {
      "cell_type": "markdown",
      "source": [
        "###3. How would you handle a case where the file doesn't exist while trying to open it for reading?"
      ],
      "metadata": {
        "id": "Se6fUnNuEzVs"
      }
    },
    {
      "cell_type": "code",
      "source": [
        "try:\n",
        "    with open(\"missing.txt\", \"r\") as f:\n",
        "        print(f.read())\n",
        "except FileNotFoundError:\n",
        "    print(\"File not found!\")"
      ],
      "metadata": {
        "id": "_FRkhTTSE62I"
      },
      "execution_count": null,
      "outputs": []
    },
    {
      "cell_type": "markdown",
      "source": [
        "###4. Write a Python script that reads from one file and writes its content to another file."
      ],
      "metadata": {
        "id": "QnXzB1pNGAyp"
      }
    },
    {
      "cell_type": "code",
      "source": [
        "with open(\"source.txt\", \"r\") as src, open(\"dest.txt\", \"w\") as dest:\n",
        "    dest.write(src.read())"
      ],
      "metadata": {
        "id": "LxZsZ3o0GHlH"
      },
      "execution_count": null,
      "outputs": []
    },
    {
      "cell_type": "markdown",
      "source": [
        "###5. How would you catch and handle division by zero error in Python?"
      ],
      "metadata": {
        "id": "UUAGCTQPGSco"
      }
    },
    {
      "cell_type": "code",
      "source": [
        "try:\n",
        "    result = 10 / 0\n",
        "except ZeroDivisionError:\n",
        "    print(\"Cannot divide by zero!\")"
      ],
      "metadata": {
        "colab": {
          "base_uri": "https://localhost:8080/"
        },
        "id": "6mXX5fdDGX5-",
        "outputId": "d516d353-7353-40f3-9b93-b86941694560"
      },
      "execution_count": 6,
      "outputs": [
        {
          "output_type": "stream",
          "name": "stdout",
          "text": [
            "Cannot divide by zero!\n"
          ]
        }
      ]
    },
    {
      "cell_type": "markdown",
      "source": [
        "###6. Write a Python program that logs an error message to a log file when a division by zero exception occurs?"
      ],
      "metadata": {
        "id": "MqWlwGdOGgDg"
      }
    },
    {
      "cell_type": "code",
      "source": [
        "import logging\n",
        "logging.basicConfig(filename='error.log', level=logging.ERROR)\n",
        "try:\n",
        "    1 / 0\n",
        "except ZeroDivisionError:\n",
        "    logging.error(\"Division by zero occurred\", exc_info=True)"
      ],
      "metadata": {
        "colab": {
          "base_uri": "https://localhost:8080/"
        },
        "id": "7mwYnayLGlgq",
        "outputId": "124f9697-a355-4da4-fb22-8004d95b530d"
      },
      "execution_count": 7,
      "outputs": [
        {
          "output_type": "stream",
          "name": "stderr",
          "text": [
            "ERROR:root:Division by zero occurred\n",
            "Traceback (most recent call last):\n",
            "  File \"<ipython-input-7-b6a7cd114e43>\", line 4, in <cell line: 0>\n",
            "    1 / 0\n",
            "    ~~^~~\n",
            "ZeroDivisionError: division by zero\n"
          ]
        }
      ]
    },
    {
      "cell_type": "markdown",
      "source": [
        "###7. How do you log information at different levels (INFO, ERROR, WARNING) in Python using the logging module?"
      ],
      "metadata": {
        "id": "qNzkX2JhGuFQ"
      }
    },
    {
      "cell_type": "code",
      "source": [
        "logging.basicConfig(level=logging.DEBUG)\n",
        "logging.info(\"This is an info message\")\n",
        "logging.warning(\"This is a warning\")\n",
        "logging.error(\"This is an error\")"
      ],
      "metadata": {
        "colab": {
          "base_uri": "https://localhost:8080/"
        },
        "id": "ZUJAf2AqGzsv",
        "outputId": "b31c44c3-3019-48be-dca1-886882583098"
      },
      "execution_count": 8,
      "outputs": [
        {
          "output_type": "stream",
          "name": "stderr",
          "text": [
            "WARNING:root:This is a warning\n",
            "ERROR:root:This is an error\n"
          ]
        }
      ]
    },
    {
      "cell_type": "markdown",
      "source": [
        "###8.Write a program to handle a file opening error using exception handling?"
      ],
      "metadata": {
        "id": "tYWip03qHAGA"
      }
    },
    {
      "cell_type": "code",
      "source": [
        "try:\n",
        "    with open(\"file.txt\", \"r\") as f:\n",
        "        print(f.read())\n",
        "except IOError:\n",
        "    print(\"Error opening file\")"
      ],
      "metadata": {
        "colab": {
          "base_uri": "https://localhost:8080/"
        },
        "id": "FuRpYtIkHGm5",
        "outputId": "fc06c636-231a-4c7b-8bf0-9eabec8ef63e"
      },
      "execution_count": 10,
      "outputs": [
        {
          "output_type": "stream",
          "name": "stdout",
          "text": [
            "Hello, World!\n"
          ]
        }
      ]
    },
    {
      "cell_type": "markdown",
      "source": [
        "###9. How can you read a file line by line and store its content in a list in Python?"
      ],
      "metadata": {
        "id": "2Za7LFkHHF_H"
      }
    },
    {
      "cell_type": "code",
      "source": [
        "with open(\"file.txt\", \"r\") as f:\n",
        "    lines = f.readlines()"
      ],
      "metadata": {
        "id": "UX22HiOOHGan"
      },
      "execution_count": 11,
      "outputs": []
    },
    {
      "cell_type": "markdown",
      "source": [
        "###10. How can you append data to an existing file in Python?"
      ],
      "metadata": {
        "id": "GuayD_cFHkYy"
      }
    },
    {
      "cell_type": "code",
      "source": [
        "with open(\"file.txt\", \"a\") as f:\n",
        "    f.write(\"New line\\n\")"
      ],
      "metadata": {
        "id": "vMiNVmSrHq4R"
      },
      "execution_count": 12,
      "outputs": []
    },
    {
      "cell_type": "markdown",
      "source": [
        "###11.Write a Python program that uses a try-except block to handle an error when attempting to access a dictionary key that doesn't exist."
      ],
      "metadata": {
        "id": "3S9QbW7WHvAY"
      }
    },
    {
      "cell_type": "code",
      "source": [
        "d = {\"key\": \"value\"}\n",
        "try:\n",
        "    print(d[\"invalid_key\"])\n",
        "except KeyError:\n",
        "    print(\"Key does not exist\")"
      ],
      "metadata": {
        "colab": {
          "base_uri": "https://localhost:8080/"
        },
        "id": "5UyIZMOqH4m4",
        "outputId": "0cf843fe-67ed-410e-833e-f7add96f18f0"
      },
      "execution_count": 13,
      "outputs": [
        {
          "output_type": "stream",
          "name": "stdout",
          "text": [
            "Key does not exist\n"
          ]
        }
      ]
    },
    {
      "cell_type": "markdown",
      "source": [
        "###12. Write a program that demonstrates using multiple except blocks to handle different types of exceptions?"
      ],
      "metadata": {
        "id": "paJcBoNAH_v4"
      }
    },
    {
      "cell_type": "code",
      "source": [
        "try:\n",
        "    # Code\n",
        "except ValueError:\n",
        "    print(\"Value error\")\n",
        "except TypeError:\n",
        "    print(\"Type error\")"
      ],
      "metadata": {
        "id": "5x1QafNjIGsA"
      },
      "execution_count": null,
      "outputs": []
    },
    {
      "cell_type": "markdown",
      "source": [
        "###13. How would you check if a file exists before attempting to read it in Python?"
      ],
      "metadata": {
        "id": "4BcV3kKUISyC"
      }
    },
    {
      "cell_type": "code",
      "source": [
        "import os\n",
        "if os.path.exists(\"file.txt\"):\n",
        "    print(\"File exists\")"
      ],
      "metadata": {
        "colab": {
          "base_uri": "https://localhost:8080/"
        },
        "id": "AhduuSRZIZDO",
        "outputId": "005838b5-7dd1-45e3-bef3-9690fb13d6a0"
      },
      "execution_count": 15,
      "outputs": [
        {
          "output_type": "stream",
          "name": "stdout",
          "text": [
            "File exists\n"
          ]
        }
      ]
    },
    {
      "cell_type": "markdown",
      "source": [
        "###14.  Write a program that uses the logging module to log both informational and error messages?"
      ],
      "metadata": {
        "id": "ykISQu5UIdrA"
      }
    },
    {
      "cell_type": "code",
      "source": [
        "logging.basicConfig(filename='app.log', level=logging.INFO)\n",
        "logging.info(\"Program started\")\n",
        "try:\n",
        "    1 / 0\n",
        "except ZeroDivisionError:\n",
        "    logging.error(\"Error occurred\")"
      ],
      "metadata": {
        "colab": {
          "base_uri": "https://localhost:8080/"
        },
        "id": "b3LcrxIzIlzG",
        "outputId": "deb9bb94-dd8a-497e-e9c3-385ef4ad65ce"
      },
      "execution_count": 16,
      "outputs": [
        {
          "output_type": "stream",
          "name": "stderr",
          "text": [
            "ERROR:root:Error occurred\n"
          ]
        }
      ]
    },
    {
      "cell_type": "markdown",
      "source": [
        "###15.  Write a Python program that prints the content of a file and handles the case when the file is empty?"
      ],
      "metadata": {
        "id": "4gG0whYLIsvg"
      }
    },
    {
      "cell_type": "code",
      "source": [
        "with open(\"file.txt\", \"r\") as f:\n",
        "    content = f.read()\n",
        "    if not content:\n",
        "        print(\"File is empty\")\n",
        "    else:\n",
        "        print(content)"
      ],
      "metadata": {
        "id": "rLJcXfskIzIO"
      },
      "execution_count": null,
      "outputs": []
    },
    {
      "cell_type": "markdown",
      "source": [
        "###16. Demonstrate how to use memory profiling to check the memory usage of a small program?"
      ],
      "metadata": {
        "id": "Csx_o1hQJDGw"
      }
    },
    {
      "cell_type": "code",
      "source": [
        "from memory_profiler import profile\n",
        "@profile\n",
        "def my_func():\n",
        "    lst = [i for i in range(10000)]\n",
        "my_func()"
      ],
      "metadata": {
        "colab": {
          "base_uri": "https://localhost:8080/",
          "height": 399
        },
        "id": "wwv3f_gYJHrZ",
        "outputId": "05f762e6-090f-48a9-89cd-6866364531d2"
      },
      "execution_count": 20,
      "outputs": [
        {
          "output_type": "error",
          "ename": "ModuleNotFoundError",
          "evalue": "No module named 'memory_profiler'",
          "traceback": [
            "\u001b[0;31m---------------------------------------------------------------------------\u001b[0m",
            "\u001b[0;31mModuleNotFoundError\u001b[0m                       Traceback (most recent call last)",
            "\u001b[0;32m<ipython-input-20-008595c20a38>\u001b[0m in \u001b[0;36m<cell line: 0>\u001b[0;34m()\u001b[0m\n\u001b[0;32m----> 1\u001b[0;31m \u001b[0;32mfrom\u001b[0m \u001b[0mmemory_profiler\u001b[0m \u001b[0;32mimport\u001b[0m \u001b[0mprofile\u001b[0m\u001b[0;34m\u001b[0m\u001b[0;34m\u001b[0m\u001b[0m\n\u001b[0m\u001b[1;32m      2\u001b[0m \u001b[0;34m@\u001b[0m\u001b[0mprofile\u001b[0m\u001b[0;34m\u001b[0m\u001b[0;34m\u001b[0m\u001b[0m\n\u001b[1;32m      3\u001b[0m \u001b[0;32mdef\u001b[0m \u001b[0mmy_func\u001b[0m\u001b[0;34m(\u001b[0m\u001b[0;34m)\u001b[0m\u001b[0;34m:\u001b[0m\u001b[0;34m\u001b[0m\u001b[0;34m\u001b[0m\u001b[0m\n\u001b[1;32m      4\u001b[0m     \u001b[0mlst\u001b[0m \u001b[0;34m=\u001b[0m \u001b[0;34m[\u001b[0m\u001b[0mi\u001b[0m \u001b[0;32mfor\u001b[0m \u001b[0mi\u001b[0m \u001b[0;32min\u001b[0m \u001b[0mrange\u001b[0m\u001b[0;34m(\u001b[0m\u001b[0;36m10000\u001b[0m\u001b[0;34m)\u001b[0m\u001b[0;34m]\u001b[0m\u001b[0;34m\u001b[0m\u001b[0;34m\u001b[0m\u001b[0m\n\u001b[1;32m      5\u001b[0m \u001b[0mmy_func\u001b[0m\u001b[0;34m(\u001b[0m\u001b[0;34m)\u001b[0m\u001b[0;34m\u001b[0m\u001b[0;34m\u001b[0m\u001b[0m\n",
            "\u001b[0;31mModuleNotFoundError\u001b[0m: No module named 'memory_profiler'",
            "",
            "\u001b[0;31m---------------------------------------------------------------------------\u001b[0;32m\nNOTE: If your import is failing due to a missing package, you can\nmanually install dependencies using either !pip or !apt.\n\nTo view examples of installing some common dependencies, click the\n\"Open Examples\" button below.\n\u001b[0;31m---------------------------------------------------------------------------\u001b[0m\n"
          ],
          "errorDetails": {
            "actions": [
              {
                "action": "open_url",
                "actionText": "Open Examples",
                "url": "/notebooks/snippets/importing_libraries.ipynb"
              }
            ]
          }
        }
      ]
    },
    {
      "cell_type": "markdown",
      "source": [
        "###17. Write a Python program to create and write a list of numbers to a file, one number per line?"
      ],
      "metadata": {
        "id": "xF60DxOTJOc4"
      }
    },
    {
      "cell_type": "code",
      "source": [
        "numbers = [1, 2, 3, 4, 5]\n",
        "with open(\"numbers.txt\", \"w\") as f:\n",
        "    for num in numbers:\n",
        "        f.write(f\"{num}\\n\")"
      ],
      "metadata": {
        "id": "kxfq4XKVJda_"
      },
      "execution_count": 21,
      "outputs": []
    },
    {
      "cell_type": "markdown",
      "source": [
        "###18. How would you implement a basic logging setup that logs to a file with rotation after 1MB?"
      ],
      "metadata": {
        "id": "4buoDmDnJhIP"
      }
    },
    {
      "cell_type": "code",
      "source": [
        "from logging.handlers import RotatingFileHandler\n",
        "handler = RotatingFileHandler('app.log', maxBytes=1e6, backupCount=5)\n",
        "logging.basicConfig(handlers=[handler])"
      ],
      "metadata": {
        "id": "eC5ddZCIJpcQ"
      },
      "execution_count": 22,
      "outputs": []
    },
    {
      "cell_type": "markdown",
      "source": [
        "###19. Write a program that handles both IndexError and KeyError using a try-except block?"
      ],
      "metadata": {
        "id": "c6iPFu5vJuTo"
      }
    },
    {
      "cell_type": "code",
      "source": [
        "try:\n",
        "    lst = [1, 2]\n",
        "    print(lst[3])\n",
        "    d = {\"key\": \"value\"}\n",
        "    print(d[\"invalid\"])\n",
        "except (IndexError, KeyError):\n",
        "    print(\"Error occurred\")"
      ],
      "metadata": {
        "colab": {
          "base_uri": "https://localhost:8080/"
        },
        "id": "OWsvNy0XJ1oL",
        "outputId": "cee76569-0832-45e6-f88a-2015d5a6ee6d"
      },
      "execution_count": 23,
      "outputs": [
        {
          "output_type": "stream",
          "name": "stdout",
          "text": [
            "Error occurred\n"
          ]
        }
      ]
    },
    {
      "cell_type": "markdown",
      "source": [
        "###20. How would you open a file and read its contents using a context manager in Python?"
      ],
      "metadata": {
        "id": "Je6P7PGuJ62J"
      }
    },
    {
      "cell_type": "code",
      "source": [
        "with open(\"file.txt\", \"r\") as f:\n",
        "    content = f.read()"
      ],
      "metadata": {
        "id": "iNxhBMgzJ_9_"
      },
      "execution_count": 24,
      "outputs": []
    },
    {
      "cell_type": "markdown",
      "source": [
        "###21. Write a Python program that reads a file and prints the number of occurrences of a specific word?"
      ],
      "metadata": {
        "id": "0d-zpFafKDSQ"
      }
    },
    {
      "cell_type": "code",
      "source": [
        "word = \"Python\"\n",
        "count = 0\n",
        "with open(\"file.txt\", \"r\") as f:\n",
        "    for line in f:\n",
        "        count += line.lower().count(word.lower())\n",
        "print(count)"
      ],
      "metadata": {
        "colab": {
          "base_uri": "https://localhost:8080/"
        },
        "id": "WZqD-WkZKHb_",
        "outputId": "01f74e7d-2b5f-4474-bba7-de6bc7ef6f5e"
      },
      "execution_count": 25,
      "outputs": [
        {
          "output_type": "stream",
          "name": "stdout",
          "text": [
            "0\n"
          ]
        }
      ]
    },
    {
      "cell_type": "markdown",
      "source": [
        "###22.  How can you check if a file is empty before attempting to read its contents?"
      ],
      "metadata": {
        "id": "yHcEqRKWKKaX"
      }
    },
    {
      "cell_type": "code",
      "source": [
        "import os\n",
        "if os.stat(\"file.txt\").st_size == 0:\n",
        "    print(\"File is empty\")"
      ],
      "metadata": {
        "id": "yCyUsSatKPtg"
      },
      "execution_count": 26,
      "outputs": []
    },
    {
      "cell_type": "markdown",
      "source": [
        "###23. Write a Python program that writes to a log file when an error occurs during file handling?"
      ],
      "metadata": {
        "id": "75dt8VPTKS3w"
      }
    },
    {
      "cell_type": "code",
      "source": [
        "import logging\n",
        "logging.basicConfig(filename='file_errors.log', level=logging.ERROR)\n",
        "try:\n",
        "    with open(\"invalid.txt\", \"r\") as f:\n",
        "        print(f.read())\n",
        "except FileNotFoundError:\n",
        "    logging.error(\"File not found\")"
      ],
      "metadata": {
        "colab": {
          "base_uri": "https://localhost:8080/"
        },
        "id": "mwzzXIDpKXro",
        "outputId": "9b6d5678-2164-47fc-ce0f-993cf0eeadf0"
      },
      "execution_count": 27,
      "outputs": [
        {
          "output_type": "stream",
          "name": "stderr",
          "text": [
            "ERROR:root:File not found\n"
          ]
        }
      ]
    },
    {
      "cell_type": "markdown",
      "source": [
        "##THANK YOU :)"
      ],
      "metadata": {
        "id": "KJQp_eQRKbWw"
      }
    }
  ]
}